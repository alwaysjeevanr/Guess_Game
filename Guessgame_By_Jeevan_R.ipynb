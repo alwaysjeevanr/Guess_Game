{
  "nbformat": 4,
  "nbformat_minor": 0,
  "metadata": {
    "colab": {
      "name": "Guessgame_By_Jeevan_R.ipynb",
      "provenance": [],
      "collapsed_sections": [],
      "include_colab_link": true
    },
    "kernelspec": {
      "name": "python3",
      "display_name": "Python 3"
    }
  },
  "cells": [
    {
      "cell_type": "markdown",
      "metadata": {
        "id": "view-in-github",
        "colab_type": "text"
      },
      "source": [
        "<a href=\"https://colab.research.google.com/github/jeevanrraj/Guess_Game/blob/main/Guessgame_By_Jeevan_R.ipynb\" target=\"_parent\"><img src=\"https://colab.research.google.com/assets/colab-badge.svg\" alt=\"Open In Colab\"/></a>"
      ]
    },
    {
      "cell_type": "code",
      "metadata": {
        "id": "tFxsOr_K_Gde",
        "colab": {
          "base_uri": "https://localhost:8080/"
        },
        "outputId": "1062f0ad-7833-4af7-fb31-b75095c298e6"
      },
      "source": [
        "import random\n",
        "\n",
        "name = input(\"What is your name? \")\n",
        "\n",
        "print(\"Good Luck! \", name) \n",
        "\n",
        "words = list()\n",
        "words = ['rainbow', 'computer', 'science', 'programming', \n",
        "\t\t'python', 'mathematics', 'player', 'condition', \n",
        "\t\t'reverse', 'water', 'board', 'geeks']\n",
        "\n",
        "word = random.choice(words) \n",
        "print(\"Guess the characters\") \n",
        "guesses = ''\n",
        "turns = 12\n",
        "\n",
        "while turns > 0: \n",
        "\tfailed = 0\n",
        "\tfor char in word:\n",
        "\n",
        "\t\tif char in guesses: \n",
        "\t\t\tprint(char) \n",
        "\t\t\t\n",
        "\t\telse: \n",
        "\t\t\tprint(\"_\")\n",
        "\t\t\tfailed += 1\n",
        "    \n",
        "\tif failed == 0: \n",
        "\t\tprint(\"You Won\",name)\n",
        "\t\tprint(\"The word is:\", word) \n",
        "\t\tbreak\n",
        "  \n",
        "\tguess = input(\"guess a character:\")\n",
        "\tguesses += guess\n",
        "\tif guess not in word: \t\n",
        "\t\tturns -= 1\n",
        "\t\tprint(\"Wrong\") \n",
        "\t\tprint(\"You have\", + turns, 'more guesses') \n",
        "\t\tif turns == 0:\n",
        "\t\t\tprint(\"Sorry! {0} You Loose\".format(name))\n"
      ],
      "execution_count": null,
      "outputs": [
        {
          "output_type": "stream",
          "text": [
            "What is your name? Jeevan\n",
            "Good Luck!  Jeevan\n",
            "Guess the characters\n",
            "_\n",
            "_\n",
            "_\n",
            "_\n",
            "_\n",
            "guess a character:water\n",
            "Wrong\n",
            "You have 11 more guesses\n",
            "_\n",
            "_\n",
            "a\n",
            "r\n",
            "_\n",
            "guess a character:board\n",
            "b\n",
            "o\n",
            "a\n",
            "r\n",
            "d\n",
            "You Won Jeevan\n",
            "The word is: board\n"
          ],
          "name": "stdout"
        }
      ]
    }
  ]
}